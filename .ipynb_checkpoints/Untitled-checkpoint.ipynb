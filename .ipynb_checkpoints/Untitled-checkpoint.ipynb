{
 "cells": [
  {
   "cell_type": "code",
   "execution_count": 1,
   "metadata": {
    "ExecuteTime": {
     "end_time": "2019-11-11T14:37:57.662921Z",
     "start_time": "2019-11-11T14:37:52.464767Z"
    }
   },
   "outputs": [
    {
     "data": {
      "text/html": [
       "<style>.container { width:100% !important; }</style>"
      ],
      "text/plain": [
       "<IPython.core.display.HTML object>"
      ]
     },
     "metadata": {},
     "output_type": "display_data"
    }
   ],
   "source": [
    "from IPython.core.display import display, HTML\n",
    "display(HTML(\"<style>.container { width:100% !important; }</style>\"))\n",
    "\n",
    "import tensorflow as tf\n",
    "import scipy as sp\n",
    "import numpy as np\n",
    "import gdal\n",
    "\n",
    "import pupygrib\n",
    "from netCDF4 import Dataset"
   ]
  },
  {
   "cell_type": "markdown",
   "metadata": {},
   "source": [
    "# Testing Generators.py"
   ]
  },
  {
   "cell_type": "code",
   "execution_count": 2,
   "metadata": {
    "ExecuteTime": {
     "end_time": "2019-11-11T14:37:57.678903Z",
     "start_time": "2019-11-11T14:37:57.665914Z"
    }
   },
   "outputs": [],
   "source": [
    "import Generators"
   ]
  },
  {
   "cell_type": "code",
   "execution_count": null,
   "metadata": {
    "ExecuteTime": {
     "end_time": "2019-11-11T14:10:31.658543Z",
     "start_time": "2019-11-11T14:10:31.647576Z"
    }
   },
   "outputs": [],
   "source": [
    "_path = \"Data/Rain_Data/rr_ens_mean_0.1deg_reg_v20.0e_197901-201907_djf_uk.nc\"\n",
    "rain_gen = Generators.Generator_rain(fn=_path,all_at_once=False)"
   ]
  },
  {
   "cell_type": "code",
   "execution_count": null,
   "metadata": {
    "ExecuteTime": {
     "end_time": "2019-11-11T14:10:36.749202Z",
     "start_time": "2019-11-11T14:10:36.669381Z"
    }
   },
   "outputs": [],
   "source": [
    "ds = tf.data.Dataset.from_generator(\n",
    "    rain_gen,\n",
    "    tf.float32\n",
    ")"
   ]
  },
  {
   "cell_type": "code",
   "execution_count": null,
   "metadata": {
    "ExecuteTime": {
     "end_time": "2019-11-11T14:10:38.272123Z",
     "start_time": "2019-11-11T14:10:38.174384Z"
    }
   },
   "outputs": [],
   "source": [
    "next(iter(ds))"
   ]
  },
  {
   "cell_type": "code",
   "execution_count": 5,
   "metadata": {
    "ExecuteTime": {
     "end_time": "2019-11-11T14:38:10.154013Z",
     "start_time": "2019-11-11T14:38:10.131075Z"
    }
   },
   "outputs": [],
   "source": [
    "_path = \"Data/Rain_Data/rr_ens_mean_0.1deg_reg_v20.0e_197901-201907_djf_uk.nc\"\n",
    "grib_gen = Generators.Generator_grib(fn='Data/Rain_Data/ana_coarse.grib',all_at_once=True)"
   ]
  },
  {
   "cell_type": "code",
   "execution_count": 7,
   "metadata": {
    "ExecuteTime": {
     "end_time": "2019-11-11T14:38:19.265060Z",
     "start_time": "2019-11-11T14:38:19.238137Z"
    }
   },
   "outputs": [
    {
     "data": {
      "text/plain": [
       "(20, 21, 11)"
      ]
     },
     "execution_count": 7,
     "metadata": {},
     "output_type": "execute_result"
    }
   ],
   "source": [
    "next(iter(grib_gen() )).shape"
   ]
  },
  {
   "cell_type": "markdown",
   "metadata": {
    "heading_collapsed": true
   },
   "source": [
    "# Exploring Data"
   ]
  },
  {
   "cell_type": "code",
   "execution_count": null,
   "metadata": {
    "ExecuteTime": {
     "end_time": "2019-11-08T14:06:52.803529Z",
     "start_time": "2019-11-08T14:06:52.763576Z"
    },
    "hidden": true
   },
   "outputs": [],
   "source": [
    "_data = Dataset(\"Data/Rain_Data/rr_ens_mean_0.1deg_reg_v20.0e_197901-201907_djf_uk.nc\",\"r\",format=\"NETCDF4\")\n",
    "#print(_data.variables)\n",
    "\n",
    "for key,val in _data.variables.items():\n",
    "    print(\"Key:{} \\n Value{}\\n\\n\\n\".format(key,val) )\n",
    "#_data.close()"
   ]
  },
  {
   "cell_type": "code",
   "execution_count": null,
   "metadata": {
    "ExecuteTime": {
     "end_time": "2019-11-08T13:24:34.246028Z",
     "start_time": "2019-11-08T13:24:34.223089Z"
    },
    "hidden": true
   },
   "outputs": [],
   "source": [
    "##INFO\n",
    "### Dimen\n",
    "_data.variables['rr'].chunking()"
   ]
  },
  {
   "cell_type": "code",
   "execution_count": null,
   "metadata": {
    "ExecuteTime": {
     "end_time": "2019-11-08T13:26:28.922564Z",
     "start_time": "2019-11-08T13:26:28.903617Z"
    },
    "hidden": true
   },
   "outputs": [],
   "source": [
    "for _chunk in _data.variables['rr']:\n",
    "    a = _chunk\n",
    "    b = a\n",
    "    break"
   ]
  },
  {
   "cell_type": "code",
   "execution_count": null,
   "metadata": {
    "ExecuteTime": {
     "end_time": "2019-11-08T14:08:38.826124Z",
     "start_time": "2019-11-08T14:08:38.123057Z"
    },
    "hidden": true
   },
   "outputs": [],
   "source": [
    "a = _data.variables['rr'][:]"
   ]
  },
  {
   "cell_type": "code",
   "execution_count": null,
   "metadata": {
    "ExecuteTime": {
     "end_time": "2019-11-11T14:01:32.666775Z",
     "start_time": "2019-11-11T14:01:32.661780Z"
    },
    "hidden": true
   },
   "outputs": [],
   "source": [
    "path_rain = \"Data/Rain_Data/rr_ens_mean_0.1deg_reg_v20.0e_197901-201907_djf_uk.nc\"\n",
    "class rain_generator:\n",
    "    def __init__(self, fn):\n",
    "        self.fn = fn\n",
    "        \n",
    "    def __call__(self):\n",
    "        with Dataset(self.fn,\"r\",format=\"NETCDF4\") as d:\n",
    "            for chunk in d.variables[\"rr\"]:\n",
    "                yield chunk"
   ]
  },
  {
   "cell_type": "code",
   "execution_count": null,
   "metadata": {
    "ExecuteTime": {
     "end_time": "2019-11-08T13:35:56.712893Z",
     "start_time": "2019-11-08T13:35:56.580211Z"
    },
    "hidden": true
   },
   "outputs": [],
   "source": [
    "ds = tf.data.Dataset.from_generator(\n",
    "    rain_generator( path_rain ),\n",
    "    tf.float32, tf.TensorShape([100,140])\n",
    ")"
   ]
  },
  {
   "cell_type": "code",
   "execution_count": null,
   "metadata": {
    "ExecuteTime": {
     "end_time": "2019-11-08T13:36:01.996087Z",
     "start_time": "2019-11-08T13:36:01.891409Z"
    },
    "hidden": true
   },
   "outputs": [],
   "source": [
    "next(iter(ds))"
   ]
  },
  {
   "cell_type": "code",
   "execution_count": null,
   "metadata": {
    "ExecuteTime": {
     "end_time": "2019-11-08T13:43:01.015887Z",
     "start_time": "2019-11-08T13:43:00.992955Z"
    },
    "hidden": true
   },
   "outputs": [],
   "source": [
    "a= rain_generator(path_rain)"
   ]
  },
  {
   "cell_type": "code",
   "execution_count": null,
   "metadata": {
    "ExecuteTime": {
     "end_time": "2019-11-08T13:45:16.697338Z",
     "start_time": "2019-11-08T13:45:16.668416Z"
    },
    "hidden": true
   },
   "outputs": [],
   "source": [
    "for _blargh in enumerate(a()):\n",
    "    print(_blargh)\n",
    "    break"
   ]
  },
  {
   "cell_type": "markdown",
   "metadata": {},
   "source": [
    "# Grib Files"
   ]
  },
  {
   "cell_type": "code",
   "execution_count": 8,
   "metadata": {
    "ExecuteTime": {
     "end_time": "2019-11-11T14:38:31.438222Z",
     "start_time": "2019-11-11T14:38:31.425233Z"
    }
   },
   "outputs": [],
   "source": [
    "dataset = gdal.Open('Data/Rain_Data/ana_coarse.grib')\n",
    "number_bands = dataset.RasterCount\n",
    "channel = dataset.GetRasterBand(1).ReadAsArray()"
   ]
  },
  {
   "cell_type": "code",
   "execution_count": 9,
   "metadata": {
    "ExecuteTime": {
     "end_time": "2019-11-11T14:38:34.615760Z",
     "start_time": "2019-11-11T14:38:34.606785Z"
    }
   },
   "outputs": [
    {
     "data": {
      "text/plain": [
       "12"
      ]
     },
     "execution_count": 9,
     "metadata": {},
     "output_type": "execute_result"
    }
   ],
   "source": [
    "channel = dataset.GetRasterBand(1)"
   ]
  },
  {
   "cell_type": "code",
   "execution_count": null,
   "metadata": {
    "ExecuteTime": {
     "end_time": "2019-11-11T13:20:27.531044Z",
     "start_time": "2019-11-11T13:20:27.478187Z"
    }
   },
   "outputs": [],
   "source": [
    "for i in range(1, number_bands):\n",
    "\n",
    "    band = dataset.GetRasterBand(i)\n",
    "    data_array = band.ReadAsArray()\n",
    "\n",
    "    num_list = []\n",
    "\n",
    "    for row in data_array:\n",
    "        for value in row:\n",
    "            if value != 9999:\n",
    "                num_list.append(value)\n",
    "    print(\"band: \" + str(i))\n",
    "    print(\"Count: \" + str(len(num_list)))\n",
    "    print(\"Max: \" + str(np.max(num_list)))\n",
    "    print(\"Min: \" + str(np.min(num_list)))\n",
    "    print(\"Mean: \" + str(np.mean(num_list)))\n",
    "    print(\"Standard Deviation: \" + str(np.std(num_list)))\n",
    "    print(\"\\n\")\n",
    "\n",
    "dataset = None"
   ]
  },
  {
   "cell_type": "code",
   "execution_count": null,
   "metadata": {
    "ExecuteTime": {
     "end_time": "2019-11-11T12:59:35.245892Z",
     "start_time": "2019-11-11T12:59:35.221957Z"
    }
   },
   "outputs": [],
   "source": [
    "strm = open('Data/Rain_Data/ana_coarse.grib','rb')\n",
    "_gribf = pupygrib.read(strm)\n",
    "for i, msg in enumerate(pupygrib.read(strm), 1):\n",
    "    lons, lats = msg.get_coordinates()\n",
    "    values = msg.get_values()\n",
    "    print(\"Message {}: {:.3f} {}\".format(i, values.mean(), lons.shape))\n",
    "    a = msg"
   ]
  },
  {
   "cell_type": "code",
   "execution_count": null,
   "metadata": {
    "ExecuteTime": {
     "end_time": "2019-11-11T12:55:12.856054Z",
     "start_time": "2019-11-11T12:55:12.846080Z"
    }
   },
   "outputs": [],
   "source": []
  },
  {
   "cell_type": "code",
   "execution_count": null,
   "metadata": {
    "ExecuteTime": {
     "end_time": "2019-11-11T12:59:15.200316Z",
     "start_time": "2019-11-11T12:59:15.194327Z"
    }
   },
   "outputs": [],
   "source": [
    "a."
   ]
  },
  {
   "cell_type": "code",
   "execution_count": null,
   "metadata": {
    "ExecuteTime": {
     "end_time": "2019-11-11T12:59:22.063466Z",
     "start_time": "2019-11-11T12:59:22.050519Z"
    }
   },
   "outputs": [],
   "source": [
    "np.array(a._data).shape"
   ]
  },
  {
   "cell_type": "code",
   "execution_count": null,
   "metadata": {
    "ExecuteTime": {
     "end_time": "2019-11-11T12:51:41.429543Z",
     "start_time": "2019-11-11T12:51:41.365688Z"
    }
   },
   "outputs": [],
   "source": [
    "_data = np.array()"
   ]
  },
  {
   "cell_type": "code",
   "execution_count": null,
   "metadata": {
    "ExecuteTime": {
     "end_time": "2019-11-11T12:45:28.439907Z",
     "start_time": "2019-11-11T12:45:28.401011Z"
    }
   },
   "outputs": [],
   "source": [
    "next(iter(_gribf))"
   ]
  },
  {
   "cell_type": "code",
   "execution_count": null,
   "metadata": {
    "ExecuteTime": {
     "end_time": "2019-11-11T12:35:33.925382Z",
     "start_time": "2019-11-11T12:35:33.873577Z"
    }
   },
   "outputs": [],
   "source": [
    "with open('Data/Rain_Data/ana_coarse_to_fine.grib','rb') as strm:\n",
    "    msg = pupygrib.read(strm)\n",
    "    for i, msg in enumerate(pupygrib.read(strm), 1):\n",
    "        lons, lats = msg.get_coordinates()\n",
    "        values = msg.get_values()\n",
    "        print(\"Message {}: {:.3f} {}\".format(i, values.mean(), lons.shape))\n",
    "\n",
    "    strm.close()"
   ]
  },
  {
   "cell_type": "code",
   "execution_count": null,
   "metadata": {
    "ExecuteTime": {
     "end_time": "2019-11-11T12:36:20.984390Z",
     "start_time": "2019-11-11T12:36:20.918558Z"
    }
   },
   "outputs": [],
   "source": [
    "with open('Data/Rain_Data/ana_pl_1.grib','rb') as strm:\n",
    "    msg = pupygrib.read(strm)\n",
    "    for i, msg in enumerate(pupygrib.read(strm), 1):\n",
    "        lons, lats = msg.get_coordinates()\n",
    "        values = msg.get_values()\n",
    "        print(\"Message {}: {:.3f} {}\".format(i, values.mean(), lons.shape))\n",
    "\n",
    "    strm.close()"
   ]
  },
  {
   "cell_type": "code",
   "execution_count": null,
   "metadata": {
    "ExecuteTime": {
     "end_time": "2019-11-11T12:37:21.623403Z",
     "start_time": "2019-11-11T12:37:21.555584Z"
    }
   },
   "outputs": [],
   "source": [
    "with open('Data/Rain_Data/oper_coarse.grib','rb') as strm:\n",
    "    msg = pupygrib.read(strm)\n",
    "    for i, msg in enumerate(pupygrib.read(strm), 1):\n",
    "        lons, lats = msg.get_coordinates()\n",
    "        values = msg.get_values()\n",
    "        print(\"Message {}: {:.3f} {}\".format(i, values.mean(), lons.shape))\n",
    "\n",
    "    strm.close()"
   ]
  },
  {
   "cell_type": "code",
   "execution_count": null,
   "metadata": {
    "ExecuteTime": {
     "end_time": "2019-11-11T12:41:53.736881Z",
     "start_time": "2019-11-11T12:41:53.620068Z"
    }
   },
   "outputs": [],
   "source": [
    "with open('Data/Rain_Data/oper_coarse_to_fine.grib','rb') as strm:\n",
    "    msg = pupygrib.read(strm)\n",
    "    for i, msg in enumerate(pupygrib.read(strm), 1):\n",
    "        lons, lats = msg.get_coordinates()\n",
    "        values = msg.get_values()\n",
    "        print(\"Message {}: {:.3f} {}\".format(i, values.mean(), lons.shape))\n",
    "\n",
    "    strm.close()"
   ]
  },
  {
   "cell_type": "code",
   "execution_count": null,
   "metadata": {
    "ExecuteTime": {
     "end_time": "2019-11-11T12:42:34.776343Z",
     "start_time": "2019-11-11T12:42:34.651393Z"
    }
   },
   "outputs": [],
   "source": [
    "with open('Data/Rain_Data/oper_fine.grib','rb') as strm:\n",
    "    msg = pupygrib.read(strm)\n",
    "    for i, msg in enumerate(pupygrib.read(strm), 1):\n",
    "        lons, lats = msg.get_coordinates()\n",
    "        values = msg.get_values()\n",
    "        print(\"Message {}: {:.3f} {}\".format(i, values.mean(), lons.shape))\n",
    "\n",
    "    strm.close()"
   ]
  },
  {
   "cell_type": "code",
   "execution_count": null,
   "metadata": {
    "ExecuteTime": {
     "end_time": "2019-11-11T12:42:57.672932Z",
     "start_time": "2019-11-11T12:42:57.618192Z"
    }
   },
   "outputs": [],
   "source": [
    "with open('Data/Rain_Data/oper_tp.grib','rb') as strm:\n",
    "    msg = pupygrib.read(strm)\n",
    "    for i, msg in enumerate(pupygrib.read(strm), 1):\n",
    "        lons, lats = msg.get_coordinates()\n",
    "        values = msg.get_values()\n",
    "        print(\"Message {}: {:.3f} {}\".format(i, values.mean(), lons.shape))\n",
    "\n",
    "    strm.close()"
   ]
  }
 ],
 "metadata": {
  "kernelspec": {
   "display_name": "Python [conda env:Anaconda3]",
   "language": "python",
   "name": "conda-env-Anaconda3-py"
  },
  "language_info": {
   "codemirror_mode": {
    "name": "ipython",
    "version": 3
   },
   "file_extension": ".py",
   "mimetype": "text/x-python",
   "name": "python",
   "nbconvert_exporter": "python",
   "pygments_lexer": "ipython3",
   "version": "3.5.6"
  }
 },
 "nbformat": 4,
 "nbformat_minor": 2
}
